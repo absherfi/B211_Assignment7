{
 "cells": [
  {
   "cell_type": "code",
   "execution_count": 23,
   "metadata": {},
   "outputs": [],
   "source": [
    "####Diabetes is a complex condition in which the organism is unable to properly regulate the amount of glucose in their body. \n",
    "# In modern times, the number of cases has increased significantly, and is expected to continue to increase into the future. \n",
    "# As a result, much of modern research has been in detecting and preventing the progression of the disease. \n",
    "# To that end, medical professionals have looked at machine learning as an potential vehicle for this change. \n",
    "# Use the built-in diabetes dataset from Scikit Learn and build 3 different machine learning regression models. \n",
    "# Use the standard data division process described in the Machine Learning lecture to train and evaluate your models. performance.\n",
    "\n",
    "###Determine which of your models gives the best performance and write a brief paragraph explaining why. \n",
    "# Cite various metrics to support your decision. If their is not a definitive best model, describe the pros and cons of your models. \n",
    "# 10 extra credit points will be rewarded to each of the top 5 performing models in the course.\n"
   ]
  },
  {
   "cell_type": "code",
   "execution_count": 24,
   "metadata": {},
   "outputs": [],
   "source": [
    "#load the diabetes dataset\n",
    "from sklearn import datasets\n",
    "diabetes = datasets.load_diabetes()\n",
    "#Load the data and the lable from the dataset\n",
    "X = diabetes.data\n",
    "y = diabetes.target"
   ]
  },
  {
   "cell_type": "code",
   "execution_count": 25,
   "metadata": {},
   "outputs": [],
   "source": [
    "#Train data and test data (80% train and 20% test)\n",
    "from sklearn import model_selection\n",
    "X_train, X_test, y_train, y_test = train_test_split(X, y, test_size=0.2, random_state=42)"
   ]
  },
  {
   "cell_type": "code",
   "execution_count": 26,
   "metadata": {},
   "outputs": [],
   "source": [
    "#Model 1: Linear Regression\n",
    "from sklearn import linear_model\n",
    "LMR = linear_model.LinearRegression()\n",
    "LMR.fit(X_train, y_train)\n",
    "LMR_pred = LMR.predict(X_test)\n",
    "LMR_pred[LMR_pred < 0] = 0"
   ]
  },
  {
   "cell_type": "code",
   "execution_count": 27,
   "metadata": {},
   "outputs": [],
   "source": [
    "#Model 2: Decision Tree Regressor\n",
    "from sklearn import tree\n",
    "DTR = tree.DecisionTreeRegressor()\n",
    "DTR.fit(X_train, y_train)\n",
    "DTR_pred = DTR.predict(X_test)\n",
    "DTR_pred[DTR_pred < 0] = 0"
   ]
  },
  {
   "cell_type": "code",
   "execution_count": 28,
   "metadata": {},
   "outputs": [],
   "source": [
    "#Model 3: Support Vector Machine Regressor\n",
    "from sklearn import svm\n",
    "SVR = svm.SVR()\n",
    "SVR.fit(X_train, y_train)\n",
    "SVR_pred = SVR.predict(X_test)\n",
    "SVR_pred[SVR_pred < 0] = 0"
   ]
  },
  {
   "cell_type": "code",
   "execution_count": 29,
   "metadata": {},
   "outputs": [
    {
     "name": "stdout",
     "output_type": "stream",
     "text": [
      "Linear Regression Variance:0.45549 \n",
      "Decision Tree Regressor Variance: 0.02805\n",
      "Support Vector Machine Regressor Variance: 0.19641\n"
     ]
    }
   ],
   "source": [
    "#print variance for each model\n",
    "from sklearn import metrics\n",
    "print(\"Linear Regression Variance:{:.5f} \".format(metrics.explained_variance_score(y_test, LMR_pred)))\n",
    "print(\"Decision Tree Regressor Variance: {:.5f}\".format(metrics.explained_variance_score(y_test, DTR_pred)))\n",
    "print(\"Support Vector Machine Regressor Variance: {:.5f}\".format(metrics.explained_variance_score(y_test, SVR_pred)))"
   ]
  },
  {
   "cell_type": "code",
   "execution_count": 30,
   "metadata": {},
   "outputs": [
    {
     "name": "stdout",
     "output_type": "stream",
     "text": [
      "Linear Regression Mean Squared Error:2900.19 \n",
      "Decision Tree Regressor Mean Squared Error: 5149.54\n",
      "Support Vector Machine Regressor Mean Squared Error: 4333.29\n"
     ]
    }
   ],
   "source": [
    "#print mean squared error for each model\n",
    "print(\"Linear Regression Mean Squared Error:{:.2f} \".format(metrics.mean_squared_error(y_test, LMR_pred)))\n",
    "print(\"Decision Tree Regressor Mean Squared Error: {:.2f}\".format(metrics.mean_squared_error(y_test, DTR_pred)))\n",
    "print(\"Support Vector Machine Regressor Mean Squared Error: {:.2f}\".format(metrics.mean_squared_error(y_test, SVR_pred)))\n"
   ]
  },
  {
   "cell_type": "code",
   "execution_count": 31,
   "metadata": {},
   "outputs": [
    {
     "name": "stdout",
     "output_type": "stream",
     "text": [
      "Linear Regression R2 Score:0.45260\n",
      "Decision Tree Regressor R2 Score: 0.02805\n",
      "Support Vector Machine Regressor R2 Score: 0.18211\n"
     ]
    }
   ],
   "source": [
    "#print r2 score for each model\n",
    "print(\"Linear Regression R2 Score:{:.5f}\".format(metrics.r2_score(y_test, LMR_pred)))\n",
    "print(\"Decision Tree Regressor R2 Score: {:.5f}\".format(metrics.r2_score(y_test, DTR_pred)))\n",
    "print(\"Support Vector Machine Regressor R2 Score: {:.5f}\".format(metrics.r2_score(y_test, SVR_pred)))\n"
   ]
  },
  {
   "cell_type": "code",
   "execution_count": null,
   "metadata": {},
   "outputs": [],
   "source": [
    "##The Linear Regression model appears to be the best model based on the metrics provided. \n",
    "# It has the highest explained variance score and r2 score, and the lowest mean squared error among the three models. \n",
    "# This indicates that the Linear Regression model explains the most variance in the target variable and \n",
    "# has the best fit to the data."
   ]
  }
 ],
 "metadata": {
  "kernelspec": {
   "display_name": "base",
   "language": "python",
   "name": "python3"
  },
  "language_info": {
   "codemirror_mode": {
    "name": "ipython",
    "version": 3
   },
   "file_extension": ".py",
   "mimetype": "text/x-python",
   "name": "python",
   "nbconvert_exporter": "python",
   "pygments_lexer": "ipython3",
   "version": "3.11.5"
  }
 },
 "nbformat": 4,
 "nbformat_minor": 2
}
